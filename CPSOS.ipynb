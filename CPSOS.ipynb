{
 "cells": [
  {
   "cell_type": "code",
   "execution_count": null,
   "metadata": {},
   "outputs": [],
   "source": [
    "#------------------------------------------------------------------------------+\n",
    "#   CHIA E TUNGOM (Chemago)\n",
    "#   Simple Particle Swarm Optimization (PSO) Algorithm in Python\n",
    "#   Feb, 2020\n",
    "#   Chaotic particle swarm optimization with sigmoid-based acceleration coefficients for numerical function optimization\n",
    "#------------------------------------------------------------------------------+"
   ]
  },
  {
   "cell_type": "code",
   "execution_count": 16,
   "metadata": {},
   "outputs": [
    {
     "data": {
      "text/plain": [
       "4.212177573638008"
      ]
     },
     "execution_count": 16,
     "metadata": {},
     "output_type": "execute_result"
    }
   ],
   "source": [
    "( 10*math.log(3)) **0.6 # math.log for natural log  and math.log10 for standard log"
   ]
  },
  {
   "cell_type": "code",
   "execution_count": 101,
   "metadata": {},
   "outputs": [
    {
     "data": {
      "text/plain": [
       "(0.47712125471966244, 1.0986122886681098)"
      ]
     },
     "execution_count": 101,
     "metadata": {},
     "output_type": "execute_result"
    }
   ],
   "source": [
    "math.log10(3),math.log(3)"
   ]
  },
  {
   "cell_type": "code",
   "execution_count": 109,
   "metadata": {},
   "outputs": [
    {
     "data": {
      "text/plain": [
       "-0.3643913728478978"
      ]
     },
     "execution_count": 109,
     "metadata": {},
     "output_type": "execute_result"
    }
   ],
   "source": [
    "(3**0.2) * (( 10*math.log(3)) **0.008)\n",
    "\n",
    "\n",
    "# random.gauss(mean,variance)     generating a gausian distribution \n",
    "\n",
    "random.gauss(5, 5)"
   ]
  },
  {
   "cell_type": "code",
   "execution_count": 1,
   "metadata": {},
   "outputs": [],
   "source": [
    "# Import dependensies\n",
    "\n",
    "import random\n",
    "import math\n",
    "\n",
    "def sphere(x):\n",
    "    ans = 0\n",
    "    for i in range(len(x)):\n",
    "        ans += x[i]**2\n",
    "        \n",
    "    return ans\n",
    "\n",
    "\n",
    "def InitializeX(population, dimensions, boundary = (-10, 10)):\n",
    "    \n",
    "    bounds = [boundary for i in range(dimensions)]\n",
    "    return [[random.uniform(bounds[i][0], bounds[i][1]) for i in range(dimensions)] for i in range(population)]\n",
    "\n",
    "def InitializeV(population, dimensions, boundary = (-10, 10)):\n",
    "    \n",
    "    bounds = [boundary for i in range(dimensions)]\n",
    "    return [[random.uniform(-1, 1) for i in range(dimensions)] for i in range(population)]\n",
    "\n",
    "def Gbest(f, X):\n",
    "    \n",
    "    fX = [f(i) for i in X]\n",
    "    ind = fX.index(min(fX))\n",
    "    gbest = X[ind]\n",
    "    \n",
    "    #print(fX)\n",
    "    #print(X)\n",
    "    \n",
    "    return gbest\n",
    "\n",
    "def Pbest(f, X, XP): \n",
    "    \n",
    "    \"\"\" XP : previous X\n",
    "        X  : current X  \"\"\"\n",
    "    \n",
    "    fX = [f(i) for i in X]\n",
    "    fP = [f(i) for i in XP]\n",
    "    pbest = []\n",
    "    \n",
    "    for i in range(len(X)):\n",
    "        \n",
    "        if fX[i] < fP[i]: \n",
    "            pbest.append(X[i])\n",
    "        else:\n",
    "            pbest.append(XP[i])\n",
    "            \n",
    "    #print(X)\n",
    "    #print(XP)\n",
    "    #print(fX)\n",
    "    #print(fP)\n",
    "    #print(Pbest)\n",
    "    \n",
    "    return pbest\n"
   ]
  },
  {
   "cell_type": "code",
   "execution_count": 89,
   "metadata": {},
   "outputs": [],
   "source": [
    "def updateV(V, X, p, g, w, c1, c2):\n",
    "    \n",
    "    \"\"\"pbest: personal best X\n",
    "       gbest: global best \"\"\"\n",
    "    \n",
    "    v = []\n",
    "    \n",
    "    for i in range(len(X)):\n",
    "        v.append([])\n",
    "        \n",
    "        for j in range(len(X[0])):\n",
    "            \n",
    "            r1 = random.random()\n",
    "            r2 = random.random()\n",
    "            \n",
    "            v[i].append( (w*V[i][j]) + (c1 * r1*(p[i][j] - X[i][j])) + (c2* r2* (g[j] - X[i][j])) )\n",
    "            \n",
    "    return v\n",
    "\n",
    "def updateX1(X, V):\n",
    "    x = []\n",
    "    alpha = 8\n",
    "    \n",
    "    for i in range(len(X)):\n",
    "        x.append([])\n",
    "        sx = random.uniform(0,1)\n",
    "        \n",
    "        for j in range(len(X[0])):\n",
    "            x[i].append( X[i][j] + V[i][j] - sx )#( (10*math.log(sx)) **alpha) )\n",
    "            \n",
    "            #if x[i][j] > bound[i]\n",
    "            \n",
    "    return x\n",
    "\n",
    "def updateX2(X, V):\n",
    "    x = []\n",
    "    alpha = 6\n",
    "    gama = 0.4\n",
    "    \n",
    "    for i in range(len(X)):\n",
    "        x.append([])\n",
    "        sx = random.uniform(0,5)\n",
    "        \n",
    "        for j in range(len(X[0])):\n",
    "            x[i].append( X[i][j] + V[i][j] - sx )#( sx**gama) * ((10*math.log(sx)) **alpha)) \n",
    "            \n",
    "            #if x[i][j] > bound[i]\n",
    "            \n",
    "    return x\n"
   ]
  },
  {
   "cell_type": "code",
   "execution_count": 116,
   "metadata": {},
   "outputs": [],
   "source": [
    "# gaussian mutation of pbest and gbest\n",
    "\n",
    "def mutationP(pbest):\n",
    "    \n",
    "    gauss = [[random.gauss(1,2) for i in range(len(pbest[0]))] for i in range(len(pbest))]\n",
    "    pm = []\n",
    "    for i in range(len(pbest)):\n",
    "        pm.append([])\n",
    "        \n",
    "        for j in range(len(pbest[0])):\n",
    "            pm[i].append( pbest[i][j] + gauss[i][j] )\n",
    "            \n",
    "    return pm\n",
    "\n",
    "def mutationG(gbest):\n",
    "             \n",
    "    gauss = [random.gauss(1,2) for i in range(len(gbest))]\n",
    "    gm = []         \n",
    "    for i in range(len(gbest)):\n",
    "        gm.append(gbest[i] + gauss[i])\n",
    "             \n",
    "    return gm"
   ]
  },
  {
   "cell_type": "code",
   "execution_count": 117,
   "metadata": {},
   "outputs": [],
   "source": [
    "# Write a DE Loop\n",
    "\n",
    "# input: dim, pop, bounds, function\n",
    "dim = 3                                                 # dimension of vector\n",
    "pop = 5\n",
    "bound = (-10, 10)                                       # (lower, upper) bound for one dimensional vector\n",
    "#bounds = [(-10, 10) for i in range(dim)]               # for a 3 dimensionsal vector\n",
    "\n",
    "def PSO(dim, bound, function, pop = 10, runs = 20):\n",
    "    \n",
    "    X = InitializeX(pop, dim, bound)\n",
    "    V = InitializeV(pop, dim, bound)\n",
    "    \n",
    "    c1 = 1.5\n",
    "    c2 = 1.5\n",
    "    w = 0.7\n",
    "    \n",
    "    i = 0\n",
    "    while i < runs :\n",
    "        \n",
    "        gbest = Gbest(function, X)\n",
    "        if i == 0:\n",
    "            pbest = X\n",
    "        else:\n",
    "            pbest = Pbest(function, X, XP)\n",
    "        \n",
    "        XP = X.copy()\n",
    "        V = updateV(V, X, pbest, gbest, w, c1, c2)\n",
    "        X = updateX1(X, V)\n",
    "        \n",
    "        i += 1\n",
    "        \n",
    "        #print(min ([function(i) for i in X]))\n",
    "        \n",
    "    return min ([function(i) for i in X])"
   ]
  },
  {
   "cell_type": "code",
   "execution_count": 118,
   "metadata": {},
   "outputs": [
    {
     "data": {
      "text/plain": [
       "0.2692624830673662"
      ]
     },
     "execution_count": 118,
     "metadata": {},
     "output_type": "execute_result"
    }
   ],
   "source": [
    "dimensions = 5\n",
    "bound = (-10,10)\n",
    "\n",
    "PSO(dimensions, bound, sphere, pop = 20, runs= 50)"
   ]
  },
  {
   "cell_type": "code",
   "execution_count": null,
   "metadata": {},
   "outputs": [],
   "source": []
  }
 ],
 "metadata": {
  "kernelspec": {
   "display_name": "Python [default]",
   "language": "python",
   "name": "python3"
  },
  "language_info": {
   "codemirror_mode": {
    "name": "ipython",
    "version": 3
   },
   "file_extension": ".py",
   "mimetype": "text/x-python",
   "name": "python",
   "nbconvert_exporter": "python",
   "pygments_lexer": "ipython3",
   "version": "3.5.6"
  }
 },
 "nbformat": 4,
 "nbformat_minor": 2
}
