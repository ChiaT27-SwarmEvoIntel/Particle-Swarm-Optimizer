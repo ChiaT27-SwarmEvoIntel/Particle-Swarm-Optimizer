{
 "cells": [
  {
   "cell_type": "markdown",
   "metadata": {},
   "source": [
    "# Benchmark Functions for Numerical Optimization"
   ]
  },
  {
   "cell_type": "markdown",
   "metadata": {},
   "source": [
    "All benchmark functions can be grouped into two categories unimodal and multimodal functions, F1–F5 and F6–F8 respectively. These functions have been used in the following works\n",
    "1. Teck Yan Tana, Li Zhanga,⁎, Siew Chin Neohb, Chee Peng Limc , Intelligent skin cancer detection using enhanced particle swarm optimization Knowledge-Based Systems 158 (2018) 118-135\n",
    "2. L. Zhang, W. Srisukkham, S.C. Neoh, C.P. Lim, D. Pandit, Classifier ensemble reduction using a modified firefly algorithm: an empirical evaluation, Expert Syst. Appl. 93 (2018) 395–422.\n",
    "3. X.S. Yang, Flower pollination algorithm for global optimization, in: J. Durand-Lose,N. Jonoska (Eds.), Unconventional Computation and Natural Computation, UCNC 2012. Lecture Notes in Computer Science, 7445 Springer, Berlin, Heidelberg, 2012, pp. 240–249.\n",
    "4. S. Mirjalili, Moth-flame optimization algorithm: a novel nature-inspired heuristic paradigm, Knowl.-Based Syst. 89 (2015) 228–249.\n",
    "5. L.N. Zhang, L.Q. Liu, G.N. Yuan, Y.T. Dai, Modified firefly algorithm using randomized mechanisms, Proceedings of IEEE Congress on Evolutionary Computation (CEC), Canada, 2016, pp. 2255–2261."
   ]
  },
  {
   "cell_type": "markdown",
   "metadata": {},
   "source": [
    "# F1 Dixon-price \n",
    "\n",
    "$ f(x) = (x_1-1)^2 + \\sum_{i=1}^{d} i(2x_{i}^{2} - x_i-1)^2 $"
   ]
  },
  {
   "cell_type": "code",
   "execution_count": 2,
   "metadata": {},
   "outputs": [],
   "source": [
    "import math\n",
    "\n",
    "def F1(x):\n",
    "    \"\"\" x is a vector of dimension d \n",
    "        e.g if x = [1,2,3] , d = 3 or len(x)\"\"\"\n",
    "    \n",
    "    a = 0\n",
    "    for i in range(len(x)):\n",
    "        a += ( (i+1) * ( ( ((2*x[i]) ** 2) - x[i] - 1) **2) )\n",
    "        \n",
    "    return ((x[0] - 1)**2) + a "
   ]
  },
  {
   "cell_type": "markdown",
   "metadata": {},
   "source": [
    "# F2 Sphere\n",
    "$ f(x) = \\sum_{i=1}^{d} x_{i}^{2}  $"
   ]
  },
  {
   "cell_type": "code",
   "execution_count": 38,
   "metadata": {},
   "outputs": [],
   "source": [
    "def F2(x):\n",
    "    \n",
    "    ans = 0\n",
    "    for i in range(len(x)):\n",
    "        ans += x[i]**2\n",
    "        \n",
    "    return ans"
   ]
  },
  {
   "cell_type": "markdown",
   "metadata": {},
   "source": [
    "# F3 Rotated Hyper-Ellipsoid\n",
    "\n",
    "\n",
    "$ f(x) = \\sum_{i=1}^{d} \\sum_{j=1}^{i} x_{j}^{2}  $"
   ]
  },
  {
   "cell_type": "code",
   "execution_count": 39,
   "metadata": {},
   "outputs": [
    {
     "data": {
      "text/plain": [
       "0"
      ]
     },
     "execution_count": 39,
     "metadata": {},
     "output_type": "execute_result"
    }
   ],
   "source": [
    "def F3(x):\n",
    "    \n",
    "    ans  = 0\n",
    "    for i in range(len(x)):\n",
    "        for j in range(i):\n",
    "            ans += x[j]**2\n",
    "            \n",
    "    return ans\n",
    "\n",
    "F3([0,0])"
   ]
  },
  {
   "cell_type": "markdown",
   "metadata": {},
   "source": [
    "# F4 Sum Squares\n",
    "\n",
    "$ f(x) = \\sum_{i=1}^{d} ix_{i}^{2}  $"
   ]
  },
  {
   "cell_type": "code",
   "execution_count": 34,
   "metadata": {},
   "outputs": [
    {
     "data": {
      "text/plain": [
       "4"
      ]
     },
     "execution_count": 34,
     "metadata": {},
     "output_type": "execute_result"
    }
   ],
   "source": [
    "def F4(x):\n",
    "    \n",
    "    ans = 0\n",
    "    for i in range(len(x)):\n",
    "        # i+1 coz i starts from 0 but i begins from 1. x[i] is a slice of vector and need no +1\n",
    "        ans += ( (i+1) * ( x[i]**2 ) )    \n",
    "        #print(ans, i+1, x[i])\n",
    "        \n",
    "    return ans\n",
    "\n",
    "F4([2,0])"
   ]
  },
  {
   "cell_type": "markdown",
   "metadata": {},
   "source": [
    "# F5 Sum of Different Powers\n",
    "\n",
    "$ f(x) = \\sum_{i=1}^{d} |x_{i}|^{i+1}  $"
   ]
  },
  {
   "cell_type": "code",
   "execution_count": 46,
   "metadata": {},
   "outputs": [
    {
     "data": {
      "text/plain": [
       "4"
      ]
     },
     "execution_count": 46,
     "metadata": {},
     "output_type": "execute_result"
    }
   ],
   "source": [
    "def F5(x):\n",
    "    \n",
    "    ans = 0\n",
    "    for i in range(len(x)):\n",
    "        # i+1+1 coz i starts from 0 but i begins from 1. x[i] is a slice of vector and need no +1\n",
    "        ans += ( (abs(x[i]))**(i+1+1) )     \n",
    "        \n",
    "    return ans\n",
    "\n",
    "F5([2,0])"
   ]
  },
  {
   "cell_type": "markdown",
   "metadata": {},
   "source": [
    "# F6 Ackley\n",
    "\n",
    "$ f(x) = 20 + e - 20 exp \\left(-0.2 \\sqrt{\\frac{1}{d}\\sum_{i=1}^{d} x_{i}^{2} } \\right) - exp\\left(\\frac{1}{d}\\sum_{i=1}^{d} cos(2\\pi x_i)\\right) $"
   ]
  },
  {
   "cell_type": "code",
   "execution_count": 47,
   "metadata": {},
   "outputs": [
    {
     "name": "stdout",
     "output_type": "stream",
     "text": [
      "4.440892098500626e-16\n"
     ]
    }
   ],
   "source": [
    "def F6(x):\n",
    "    \n",
    "    a = math.sqrt( ((len(x))**-1) * sum([i**2 for i in x]) )\n",
    "    b = math.e ** ( ((len(x))**-1) * sum([math.cos(2*math.pi*i) for i in x]) )\n",
    "            \n",
    "    ans  = (-20*( math.e ** (-0.02 * a) ) ) - b + 20 + math.e\n",
    "    \n",
    "    return ans\n",
    "\n",
    "F6([0,0])"
   ]
  },
  {
   "cell_type": "markdown",
   "metadata": {},
   "source": [
    "# F7 Griewank\n",
    "\n",
    "$ f(x) = \\sum_{i=1}^{d}\\frac{x_{i}^{2}}{4000} -\\Pi_{i=1}^{d}cos\\left(\\frac{x_i}{\\sqrt{i}}\\right) + 1 $ "
   ]
  },
  {
   "cell_type": "code",
   "execution_count": 67,
   "metadata": {},
   "outputs": [
    {
     "data": {
      "text/plain": [
       "0.0"
      ]
     },
     "execution_count": 67,
     "metadata": {},
     "output_type": "execute_result"
    }
   ],
   "source": [
    "def F7(x):\n",
    "    \n",
    "    ans = 0\n",
    "    a = 0\n",
    "    b = 1\n",
    "    for i in range(len(x)):\n",
    "        a += ( (x[i]**2)/4000 )\n",
    "        # i+1 coz i starts from 0 but i begins from 1. x[i] is a slice of vector and need no +1\n",
    "        b *= math.cos( x[i] / math.sqrt(i+1) )\n",
    "        \n",
    "    ans = a - b + 1\n",
    "    \n",
    "    return ans \n",
    "\n",
    "F7([0,0,0])"
   ]
  },
  {
   "cell_type": "markdown",
   "metadata": {},
   "source": [
    "# F8 Powell\n",
    "\n",
    "$ f(x) =\\sum_{i=1}^{d/4}[(x_{4i-3} + 10x_{4i-2})^2 + 5(x_{4i-1} - x_4i)^2 + (x_{4i-2} - 12x_{4i-1})^4 +(x_{4i-3} + x_{4i})^4] $ "
   ]
  },
  {
   "cell_type": "code",
   "execution_count": 66,
   "metadata": {},
   "outputs": [
    {
     "data": {
      "text/plain": [
       "4111729"
      ]
     },
     "execution_count": 66,
     "metadata": {},
     "output_type": "execute_result"
    }
   ],
   "source": [
    "def F8(x):\n",
    "    \n",
    "    ans = 0\n",
    "    for i in range(1, int(len(x)/4) + 1):\n",
    "        # print(i)\n",
    "        # use index-1 intead of i coz slicing starts from zero insted of 1\n",
    "        a = (  x[(4*(i)-1) - 3] + (10*x[(4*(i)-1) - 2])  )**2\n",
    "        b = 5* ( (  x[(4*(i)-1) - 1] - x[(4*(i)-1)]  )**2)\n",
    "        c = (  x[(4*(i)-1) - 2] - (12*x[(4*(i)-1) - 1])  )**4\n",
    "        d = (  x[(4*(i)-1) - 3] + x[4*(i)-1]  )**4\n",
    "        \n",
    "        ans += (a + b + c + d)\n",
    "        \n",
    "    return ans \n",
    "\n",
    "F8([2,3,4,8])"
   ]
  },
  {
   "cell_type": "code",
   "execution_count": null,
   "metadata": {},
   "outputs": [],
   "source": []
  }
 ],
 "metadata": {
  "kernelspec": {
   "display_name": "Python [default]",
   "language": "python",
   "name": "python3"
  },
  "language_info": {
   "codemirror_mode": {
    "name": "ipython",
    "version": 3
   },
   "file_extension": ".py",
   "mimetype": "text/x-python",
   "name": "python",
   "nbconvert_exporter": "python",
   "pygments_lexer": "ipython3",
   "version": "3.5.6"
  }
 },
 "nbformat": 4,
 "nbformat_minor": 2
}
