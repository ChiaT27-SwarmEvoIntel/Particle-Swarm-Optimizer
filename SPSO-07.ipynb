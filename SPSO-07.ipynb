{
 "cells": [
  {
   "cell_type": "markdown",
   "metadata": {},
   "source": [
    "# Simpler PSO Algorithm (SPSO)\n",
    "This Algorithm is from the research paper\n",
    "*  W. Hu, Z.S. Li, A simpler and more effective particle swarm optimization algorithm, J. Softw. 18 (4) (2007) 861–868.\n",
    "* **In the algorithms, the velocity is eliminated and position update is done using this equation** \n",
    "*  $ X_{id}(t+1) = wX_{id}(t) + c_1*r_1( P_{id}(t)-X_{id}(t) ) + c_1*r_1( P_{gd}(t)-X_{id}(t) ) $\n",
    "* The Algorithm is said to have a faster convergence speed compared to the orignial PSO algorithm"
   ]
  },
  {
   "cell_type": "code",
   "execution_count": 1,
   "metadata": {},
   "outputs": [],
   "source": [
    "#------------------------------------------------------------------------------+\n",
    "#   CHIA E TUNGOM (Chemago)\n",
    "#   Simpler Particle Swarm Optimization (PSO) Algorithm in Python\n",
    "#   Feb, 2020\n",
    "#   W. Hu, Z.S. Li, A simpler and more effective particle swarm optimization algorithm, J. Softw. 18 (4)\n",
    "#   (2007) 861–868. In the algorithms, the velocity is eliminated and position update is done using this equation \n",
    "#------------------------------------------------------------------------------+"
   ]
  },
  {
   "cell_type": "code",
   "execution_count": 2,
   "metadata": {},
   "outputs": [],
   "source": [
    "# Import dependensies\n",
    "\n",
    "import random\n",
    "import math"
   ]
  },
  {
   "cell_type": "code",
   "execution_count": 3,
   "metadata": {},
   "outputs": [],
   "source": [
    "def sphere(x):\n",
    "    ans = 0\n",
    "    for i in range(len(x)):\n",
    "        ans += x[i]**2\n",
    "        \n",
    "    return ans\n",
    "\n",
    "def InitializeX(population, dimensions, boundary = (-10, 10)):\n",
    "    \n",
    "    bounds = [boundary for i in range(dimensions)]\n",
    "    return [[random.uniform(bounds[i][0], bounds[i][1]) for i in range(dimensions)] for i in range(population)]\n"
   ]
  },
  {
   "cell_type": "code",
   "execution_count": 40,
   "metadata": {},
   "outputs": [],
   "source": [
    "def Gbest(f, X):\n",
    "    \n",
    "    fX = [f(i) for i in X]\n",
    "    ind = fX.index(min(fX))\n",
    "    gbest = X[ind]\n",
    "\n",
    "    return gbest\n",
    "\n",
    "\n",
    "def Pbest(f, X, XP): \n",
    "    \n",
    "    \"\"\" XP : previous X\n",
    "        X  : current X  \"\"\"\n",
    "    \n",
    "    fX = [f(i) for i in X]\n",
    "    fP = [f(i) for i in XP]\n",
    "    pbest = []\n",
    "    \n",
    "    for i in range(len(X)):\n",
    "        \n",
    "        if fX[i] < fP[i]: \n",
    "            pbest.append(X[i])\n",
    "        else:\n",
    "            pbest.append(XP[i])\n",
    "    \n",
    "    return pbest"
   ]
  },
  {
   "cell_type": "code",
   "execution_count": 41,
   "metadata": {},
   "outputs": [],
   "source": [
    "def updateX(X, pbest, gbest, bound, w = 0.6, c1 = 2.0, c2 = 2.0):\n",
    "    \n",
    "    \"\"\"pbest: personal best X\n",
    "       gbest: global best \"\"\"\n",
    "    \n",
    "    NewX = []\n",
    "    \n",
    "    for i in range(len(X)):\n",
    "        NewX.append([])\n",
    "        \n",
    "        for j in range(len(X[0])):\n",
    "            \n",
    "            r1 = random.random()\n",
    "            r2 = random.random()\n",
    "            # Update position\n",
    "            NewX[i].append( (w*X[i][j]) + (c1 * r1*(pbest[i][j] - X[i][j])) + (c2* r2* (gbest[j] - X[i][j])) )\n",
    "            \n",
    "            # contain particles in bound\n",
    "            if NewX[i][j] < bound[j][0] or NewX[i][j] > bound[j][1]:\n",
    "                NewX[i][j] = random.uniform(bound[j][0],bound[j][1])\n",
    "    return NewX"
   ]
  },
  {
   "cell_type": "code",
   "execution_count": 88,
   "metadata": {},
   "outputs": [],
   "source": [
    "# Write an SPSO Loop\n",
    "# input: dim, pop, bounds, function\n",
    "dim = 3                                                 # dimension of vector\n",
    "pop = 5\n",
    "bound = (-10, 10)                                       # (lower, upper) bound for one dimensional vector\n",
    "#bounds = [(-10, 10) for i in range(dim)]               # for a 3 dimensionsal vector\n",
    "\n",
    "def SPSO(dim, bound, function, pop = 10, runs = 20):\n",
    "    \n",
    "    X = InitializeX(pop, dim, bound)\n",
    "    bounds = [bound for i in range(dim)]\n",
    "    c1 = 2.0\n",
    "    c2 = 2.0\n",
    "    w = 0.8\n",
    "    \n",
    "    i = 0\n",
    "    while i < runs :\n",
    "        \n",
    "        gbest = Gbest(function, X)\n",
    "        if i == 0:\n",
    "            pbest = X\n",
    "        else:\n",
    "            pbest = Pbest(function, X, XP)\n",
    "            \n",
    "        XP = X.copy()    \n",
    "        X = updateX(X, pbest, gbest, bounds, w, c1, c2)\n",
    "        \n",
    "        i += 1\n",
    "        \n",
    "        #print(min ([function(i) for i in X]))\n",
    "        \n",
    "    return min([function(i) for i in X])"
   ]
  },
  {
   "cell_type": "code",
   "execution_count": 91,
   "metadata": {},
   "outputs": [
    {
     "data": {
      "text/plain": [
       "1.1894224612620637e-07"
      ]
     },
     "execution_count": 91,
     "metadata": {},
     "output_type": "execute_result"
    }
   ],
   "source": [
    "dimensions = 50\n",
    "bound = (-10,10)\n",
    "\n",
    "SPSO(dimensions, bound, sphere, pop = 20, runs= 50)"
   ]
  },
  {
   "cell_type": "code",
   "execution_count": 93,
   "metadata": {},
   "outputs": [
    {
     "data": {
      "text/plain": [
       "2.6018849502296937"
      ]
     },
     "execution_count": 93,
     "metadata": {},
     "output_type": "execute_result"
    }
   ],
   "source": [
    "import math\n",
    "\n",
    "def F1(x):\n",
    "    \"\"\" x is a vector of dimension d \n",
    "        e.g if x = [1,2,3] , d = 3 or len(x)\"\"\"\n",
    "    \n",
    "    a = 0\n",
    "    for i in range(len(x)):\n",
    "        a += ( (i+1) * ( ( ((2*x[i]) ** 2) - x[i] - 1) **2) )\n",
    "        \n",
    "    return ((x[0] - 1)**2) + a \n",
    "\n",
    "dimensions = 5\n",
    "bound = (-10,10)\n",
    "\n",
    "SPSO(dimensions, bound, F1, pop = 50, runs= 1000)\n"
   ]
  },
  {
   "cell_type": "code",
   "execution_count": 94,
   "metadata": {},
   "outputs": [
    {
     "data": {
      "text/plain": [
       "4.440892098500626e-16"
      ]
     },
     "execution_count": 94,
     "metadata": {},
     "output_type": "execute_result"
    }
   ],
   "source": [
    "def F6(x):\n",
    "    \n",
    "    a = math.sqrt( ((len(x))**-1) * sum([i**2 for i in x]) )\n",
    "    b = math.e ** ( ((len(x))**-1) * sum([math.cos(2*math.pi*i) for i in x]) )\n",
    "            \n",
    "    ans  = (-20*( math.e ** (-0.02 * a) ) ) - b + 20 + math.e\n",
    "    \n",
    "    return ans\n",
    "\n",
    "dimensions = 5\n",
    "bound = (-32,32)\n",
    "\n",
    "SPSO(dimensions, bound, F6, pop = 50, runs= 1000)\n"
   ]
  },
  {
   "cell_type": "code",
   "execution_count": 95,
   "metadata": {},
   "outputs": [],
   "source": [
    "import math\n",
    "\n",
    "def schewefels(x, n = 4):\n",
    "    ans = 0\n",
    "    for i in range(n):\n",
    "        sphere(x)\n",
    "        ans += ans \n",
    "    return ans \n",
    "\n",
    "def rosenbrock(x):\n",
    "    ans  = 0\n",
    "    for i in range(len(x)-1):\n",
    "        ans += (100 * ( x[i+1] - x[i] )**2) + (x[i]-1)**2\n",
    "    return ans\n",
    "        \n",
    "def rastrigen(x):\n",
    "    ans  = 0\n",
    "    for i in range (len(x)):\n",
    "        ans += x[i]**2 - 10*( math.cos(2*math.pi*x[i]) ) + 10\n",
    "    return ans   \n",
    "\n",
    "def griewank(x):\n",
    "    ans = 0\n",
    "    a = 0\n",
    "    b = 1\n",
    "    for i in range(len(x)):\n",
    "        a += x[i]**2\n",
    "        b *= math.cos( x[i] / ((i+1)**(1/2)) )\n",
    "    ans = ( (1/4000)*a ) + b + 1\n",
    "    return ans \n",
    "\n",
    "def aukley(x):\n",
    "    a = 0\n",
    "    b = 0\n",
    "    ans = 0\n",
    "    for i in range(len(x)):\n",
    "        a += x[i]**2\n",
    "        b += math.cos( 2*math.pi*x[i])\n",
    "    ans = (-20*math.exp((-0.2)*(math.sqrt( (1/len(x)) *a)) ) )- math.exp( (1/len(x)) * b ) + 20 + math.e\n",
    "    return ans\n",
    "\n",
    "\n",
    "def schewefels2(x):\n",
    "    ans = 0\n",
    "    a = 0\n",
    "    b = 1\n",
    "    for i in range(len(x)):\n",
    "        a += x[i]\n",
    "        b *= x[i]\n",
    "    ans = a + b \n",
    "    return ans "
   ]
  },
  {
   "cell_type": "code",
   "execution_count": 96,
   "metadata": {},
   "outputs": [
    {
     "data": {
      "text/plain": [
       "3.006732181578896e-191"
      ]
     },
     "execution_count": 96,
     "metadata": {},
     "output_type": "execute_result"
    }
   ],
   "source": [
    "dimensions = 30\n",
    "bound = (-100, 100)\n",
    "\n",
    "SPSO(dimensions, bound, sphere, pop = 40, runs= 1000)"
   ]
  },
  {
   "cell_type": "code",
   "execution_count": 97,
   "metadata": {},
   "outputs": [
    {
     "data": {
      "text/plain": [
       "0"
      ]
     },
     "execution_count": 97,
     "metadata": {},
     "output_type": "execute_result"
    }
   ],
   "source": [
    "dimensions = 30\n",
    "bound = (-100, 100)\n",
    "\n",
    "SPSO(dimensions, bound, schewefels, pop = 40, runs= 1000)"
   ]
  },
  {
   "cell_type": "code",
   "execution_count": 98,
   "metadata": {},
   "outputs": [
    {
     "data": {
      "text/plain": [
       "28.890368864763765"
      ]
     },
     "execution_count": 98,
     "metadata": {},
     "output_type": "execute_result"
    }
   ],
   "source": [
    "dimensions = 30\n",
    "bound = (-100, 100)\n",
    "\n",
    "SPSO(dimensions, bound, rosenbrock, pop = 40, runs= 1000)"
   ]
  },
  {
   "cell_type": "code",
   "execution_count": 99,
   "metadata": {},
   "outputs": [
    {
     "data": {
      "text/plain": [
       "0.18275717584782414"
      ]
     },
     "execution_count": 99,
     "metadata": {},
     "output_type": "execute_result"
    }
   ],
   "source": [
    "dimensions = 30\n",
    "bound = (-100, 100)\n",
    "\n",
    "SPSO(dimensions, bound, griewank, pop = 40, runs= 1000)"
   ]
  },
  {
   "cell_type": "code",
   "execution_count": 100,
   "metadata": {},
   "outputs": [
    {
     "data": {
      "text/plain": [
       "4.440892098500626e-16"
      ]
     },
     "execution_count": 100,
     "metadata": {},
     "output_type": "execute_result"
    }
   ],
   "source": [
    "dimensions = 30\n",
    "bound = (-100, 100)\n",
    "\n",
    "SPSO(dimensions, bound, aukley, pop = 40, runs= 1000)"
   ]
  },
  {
   "cell_type": "code",
   "execution_count": 101,
   "metadata": {},
   "outputs": [
    {
     "data": {
      "text/plain": [
       "-8.962384781695853e+47"
      ]
     },
     "execution_count": 101,
     "metadata": {},
     "output_type": "execute_result"
    }
   ],
   "source": [
    "dimensions = 30\n",
    "bound = (-100, 100)\n",
    "\n",
    "SPSO(dimensions, bound, schewefels2, pop = 40, runs= 1000)"
   ]
  },
  {
   "cell_type": "code",
   "execution_count": null,
   "metadata": {},
   "outputs": [],
   "source": []
  },
  {
   "cell_type": "code",
   "execution_count": null,
   "metadata": {},
   "outputs": [],
   "source": []
  }
 ],
 "metadata": {
  "kernelspec": {
   "display_name": "Python [default]",
   "language": "python",
   "name": "python3"
  },
  "language_info": {
   "codemirror_mode": {
    "name": "ipython",
    "version": 3
   },
   "file_extension": ".py",
   "mimetype": "text/x-python",
   "name": "python",
   "nbconvert_exporter": "python",
   "pygments_lexer": "ipython3",
   "version": "3.5.6"
  }
 },
 "nbformat": 4,
 "nbformat_minor": 2
}
