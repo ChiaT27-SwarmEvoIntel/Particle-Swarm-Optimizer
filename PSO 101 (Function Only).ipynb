{
 "cells": [
  {
   "cell_type": "code",
   "execution_count": 1,
   "metadata": {},
   "outputs": [],
   "source": [
    "#------------------------------------------------------------------------------+\n",
    "#   CHIA E TUNGOM (Chemago)\n",
    "#   Simple Particle Swarm Optimization (PSO) Algorithm in Python\n",
    "#   Feb, 2020\n",
    "#------------------------------------------------------------------------------+"
   ]
  },
  {
   "cell_type": "code",
   "execution_count": 7,
   "metadata": {},
   "outputs": [],
   "source": [
    "# Import dependensies\n",
    "\n",
    "import random\n",
    "import math"
   ]
  },
  {
   "cell_type": "raw",
   "metadata": {},
   "source": [
    "# Initialize particles randomly \n",
    "\n",
    "\n",
    "dim = 3                                             # dimension of vector\n",
    "pop = 5\n",
    "bound = (-10, 10)                                   # (lower, upper) bound for one dimensional vector\n",
    "bounds = [bound for i in range(dim)]                # for a 3 dimensionsal vector\n",
    "\n",
    "def InitializeX(population, dimensions, boundary = (-10, 10)):\n",
    "    \n",
    "    bounds = [boundary for i in range(dimensions)]\n",
    "    return [[random.uniform(bounds[i][0], bounds[i][1]) for i in range(dimensions)] for i in range(population)]\n",
    "\n",
    "InitializeX(pop, dim, bound)"
   ]
  },
  {
   "cell_type": "code",
   "execution_count": 8,
   "metadata": {},
   "outputs": [],
   "source": [
    "def InitializeX(population, dimensions, boundary = (-10, 10)):\n",
    "    \n",
    "    bounds = [boundary for i in range(dimensions)]\n",
    "    return [[random.uniform(bounds[i][0], bounds[i][1]) for i in range(dimensions)] for i in range(population)]\n",
    "\n",
    "def InitializeV(population, dimensions, boundary = (-10, 10)):\n",
    "    \n",
    "    bounds = [boundary for i in range(dimensions)]\n",
    "    return [[random.uniform(-1, 1) for i in range(dimensions)] for i in range(population)]\n",
    "\n",
    "\n",
    "def sphere(x):\n",
    "    ans = 0\n",
    "    for i in range(len(x)):\n",
    "        ans += x[i]**2\n",
    "        \n",
    "    return ans\n"
   ]
  },
  {
   "cell_type": "code",
   "execution_count": 9,
   "metadata": {},
   "outputs": [],
   "source": [
    "def Gbest(f, X):\n",
    "    \n",
    "    fX = [f(i) for i in X]\n",
    "    ind = fX.index(min(fX))\n",
    "    gbest = X[ind]\n",
    "    \n",
    "    #print(fX)\n",
    "    #print(X)\n",
    "    \n",
    "    return gbest\n",
    "\n",
    "\n",
    "def Pbest(f, X, XP): \n",
    "    \n",
    "    \"\"\" XP : previous X\n",
    "        X  : current X  \"\"\"\n",
    "    \n",
    "    fX = [f(i) for i in X]\n",
    "    fP = [f(i) for i in XP]\n",
    "    pbest = []\n",
    "    \n",
    "    for i in range(len(X)):\n",
    "        \n",
    "        if fX[i] < fP[i]: \n",
    "            pbest.append(X[i])\n",
    "        else:\n",
    "            pbest.append(XP[i])\n",
    "    \n",
    "    return pbest"
   ]
  },
  {
   "cell_type": "code",
   "execution_count": 47,
   "metadata": {},
   "outputs": [],
   "source": [
    "def updateV(V, X, p, g, w, c1, c2):\n",
    "    \n",
    "    \"\"\"pbest: personal best X\n",
    "       gbest: global best \"\"\"\n",
    "    \n",
    "    v = []\n",
    "    \n",
    "    for i in range(len(X)):\n",
    "        v.append([])\n",
    "        \n",
    "        for j in range(len(X[0])):\n",
    "            \n",
    "            r1 = random.random()\n",
    "            r2 = random.random()\n",
    "            \n",
    "            v[i].append( (w*V[i][j]) + (c1 * r1*(p[i][j] - X[i][j])) + (c2* r2* (g[j] - X[i][j])) )\n",
    "            \n",
    "    return v\n",
    "\n",
    "def updateX(X, V, bound):\n",
    "    x = []\n",
    "    for i in range(len(X)):\n",
    "        x.append([])\n",
    "        \n",
    "        for j in range(len(X[0])):\n",
    "            x[i].append( X[i][j] + V[i][j])\n",
    "            #print(x)\n",
    "            if x[i][j] < bound[j][0] or x[i][j] > bound[j][1]:\n",
    "                x[i][j] = random.uniform(bound[j][0],bound[j][1])\n",
    "            \n",
    "    return x\n"
   ]
  },
  {
   "cell_type": "code",
   "execution_count": 95,
   "metadata": {},
   "outputs": [],
   "source": [
    "# Write a DE Loop\n",
    "\n",
    "# input: dim, pop, bounds, function\n",
    "dim = 3                                                 # dimension of vector\n",
    "pop = 5\n",
    "bound = (-10, 10)                                       # (lower, upper) bound for one dimensional vector\n",
    "#bounds = [(-10, 10) for i in range(dim)]               # for a 3 dimensionsal vector\n",
    "\n",
    "def PSO(dim, bound, function, pop = 10, runs = 20):\n",
    "    \n",
    "    X = InitializeX(pop, dim, bound)\n",
    "    V = InitializeV(pop, dim, bound)\n",
    "    bound = [bound for i in range(dim)]\n",
    "    \n",
    "    c1 = 1.5\n",
    "    c2 = 1.5\n",
    "    w = 0.6\n",
    "    \n",
    "    i = 0\n",
    "    while i < runs :\n",
    "        \n",
    "        gbest = Gbest(function, X)\n",
    "        if i == 0:\n",
    "            pbest = X\n",
    "        else:\n",
    "            pbest = Pbest(function, X, XP)\n",
    "        \n",
    "        XP = X.copy()\n",
    "        V = updateV(V, X, pbest, gbest, w, c1, c2)\n",
    "        X = updateX(X, V, bound)\n",
    "        \n",
    "        i += 1\n",
    "        \n",
    "        #print(min ([function(i) for i in X]))\n",
    "        \n",
    "    return min([function(i) for i in X])"
   ]
  },
  {
   "cell_type": "code",
   "execution_count": 96,
   "metadata": {},
   "outputs": [
    {
     "data": {
      "text/plain": [
       "1.564129057540869e-05"
      ]
     },
     "execution_count": 96,
     "metadata": {},
     "output_type": "execute_result"
    }
   ],
   "source": [
    "dimensions = 5\n",
    "bound = (-10,10)\n",
    "\n",
    "PSO(dimensions, bound, sphere, pop = 20, runs= 50)"
   ]
  },
  {
   "cell_type": "code",
   "execution_count": 97,
   "metadata": {},
   "outputs": [
    {
     "data": {
      "text/plain": [
       "1.2969746115893825e-119"
      ]
     },
     "execution_count": 97,
     "metadata": {},
     "output_type": "execute_result"
    }
   ],
   "source": [
    "dimensions = 5\n",
    "bound = (-10,10)\n",
    "\n",
    "PSO(dimensions, bound, sphere, pop = 20, runs= 1000)"
   ]
  },
  {
   "cell_type": "code",
   "execution_count": 101,
   "metadata": {},
   "outputs": [
    {
     "data": {
      "text/plain": [
       "6.290071220596869e-10"
      ]
     },
     "execution_count": 101,
     "metadata": {},
     "output_type": "execute_result"
    }
   ],
   "source": [
    "def rosenbrock(x):\n",
    "    ans  = 0\n",
    "    for i in range(len(x)-1):\n",
    "        ans +=( 100 * (( x[i+1] - (x[i]**2) )**2) + ((x[i]-1)**2) )\n",
    "    return ans\n",
    "\n",
    "dimensions = 5\n",
    "bound = (-10,10)\n",
    "\n",
    "PSO(dimensions, bound, rosenbrock, pop = 60, runs= 1000)"
   ]
  },
  {
   "cell_type": "code",
   "execution_count": 99,
   "metadata": {},
   "outputs": [
    {
     "data": {
      "text/plain": [
       "0.039411931650318754"
      ]
     },
     "execution_count": 99,
     "metadata": {},
     "output_type": "execute_result"
    }
   ],
   "source": [
    "def griewank(x):\n",
    "    ans = 0\n",
    "    a = 0\n",
    "    b = 1\n",
    "    for i in range(len(x)):\n",
    "        a += x[i]**2\n",
    "        b *= math.cos( x[i] / ((i+1)**(1/2)) )\n",
    "    ans = ( (1/4000)*a ) + b + 1\n",
    "    return ans \n",
    "\n",
    "dimensions = 10\n",
    "bound = (-10,10)\n",
    "\n",
    "PSO(dimensions, bound, griewank, pop = 20, runs= 1000)"
   ]
  },
  {
   "cell_type": "code",
   "execution_count": 100,
   "metadata": {},
   "outputs": [
    {
     "data": {
      "text/plain": [
       "2.4972672633339313e-173"
      ]
     },
     "execution_count": 100,
     "metadata": {},
     "output_type": "execute_result"
    }
   ],
   "source": [
    "import math\n",
    "\n",
    "def F1(x):   #Powell\n",
    "    \"\"\" x is a vector of dimension d \n",
    "        e.g if x = [1,2,3] , d = 3 or len(x)\"\"\"\n",
    "    \n",
    "    a = 0\n",
    "    for i in range(len(x)):\n",
    "        a += ( i * ( ((2*x[i]) ** 2) - x[i] - 1) )**2\n",
    "        \n",
    "    return (x[0]**2) + a \n",
    "\n",
    "dimensions = 5\n",
    "bound = (-10,10)\n",
    "\n",
    "PSO(dimensions, bound, F1, pop = 50, runs= 1000)\n"
   ]
  },
  {
   "cell_type": "code",
   "execution_count": null,
   "metadata": {},
   "outputs": [],
   "source": []
  },
  {
   "cell_type": "code",
   "execution_count": null,
   "metadata": {},
   "outputs": [],
   "source": []
  }
 ],
 "metadata": {
  "kernelspec": {
   "display_name": "Python [default]",
   "language": "python",
   "name": "python3"
  },
  "language_info": {
   "codemirror_mode": {
    "name": "ipython",
    "version": 3
   },
   "file_extension": ".py",
   "mimetype": "text/x-python",
   "name": "python",
   "nbconvert_exporter": "python",
   "pygments_lexer": "ipython3",
   "version": "3.5.6"
  }
 },
 "nbformat": 4,
 "nbformat_minor": 2
}
